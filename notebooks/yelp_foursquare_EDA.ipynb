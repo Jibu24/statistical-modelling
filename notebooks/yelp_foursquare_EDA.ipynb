{
 "cells": [
  {
   "cell_type": "code",
   "execution_count": 25,
   "metadata": {},
   "outputs": [],
   "source": [
    "import requests\n",
    "import pandas as pd\n",
    "import numpy as np\n",
    "from IPython.display import JSON\n",
    "import os\n",
    "api_key = os.environ[\"FOURSQUARE_API_KEY\"]\n",
    "YELP_api_key = os.environ[\"YELP_API_KEY\"]"
   ]
  },
  {
   "cell_type": "markdown",
   "metadata": {},
   "source": [
    "# Foursquare"
   ]
  },
  {
   "cell_type": "markdown",
   "metadata": {},
   "source": [
    "Send a request to Foursquare with a small radius (1000m) for all the bike stations in your city of choice. "
   ]
  },
  {
   "cell_type": "code",
   "execution_count": 70,
   "metadata": {},
   "outputs": [],
   "source": [
    "# Define a function to take lat and long coordinates and return POI data near it\n",
    "def get_POI(latitude,longitude):\n",
    "    \n",
    "    url = \"https://api.foursquare.com/v3/places/search?fields=name,geocodes,categories,rating,popularity,price\"\n",
    "    \n",
    "    headers = {\"Accept\": \"application/json\"}\n",
    "    headers['Authorization'] = api_key\n",
    "    \n",
    "    location = [latitude,longitude]\n",
    "    location_str = [str(x) for x in location]\n",
    "    location_join = ','.join(location_str)\n",
    "    \n",
    "    params_dict = {\n",
    "                   \"ll\" : location_join,\n",
    "                   \"radius\" : \"1000\",\n",
    "                   \n",
    "    }\n",
    "    \n",
    "    response = requests.get(url, params_dict, headers=headers)\n",
    "    \n",
    "    if response.status_code == 200:\n",
    "        return response.json()\n",
    "    else:\n",
    "        print(f'Error {response.status_code}')\n",
    "    "
   ]
  },
  {
   "cell_type": "code",
   "execution_count": 71,
   "metadata": {},
   "outputs": [],
   "source": [
    "# Go through the lat and long coordinates of the bikestations and apply the get_POI funciton to it\n",
    "df1 = pd.read_csv('bike_locations.csv')\n",
    "df2 = df1.apply(\n",
    "        lambda row: get_POI(row['latitude'], row['longitude']),\n",
    "        axis=1)\n"
   ]
  },
  {
   "cell_type": "code",
   "execution_count": 91,
   "metadata": {},
   "outputs": [],
   "source": [
    "#df3 = list(df2)"
   ]
  },
  {
   "cell_type": "code",
   "execution_count": 90,
   "metadata": {},
   "outputs": [],
   "source": [
    "#df2[0]"
   ]
  },
  {
   "cell_type": "markdown",
   "metadata": {},
   "source": [
    "Parse through the response to get the POI (such as restaurants, bars, etc) details you want (ratings, name, location, etc)"
   ]
  },
  {
   "cell_type": "code",
   "execution_count": 74,
   "metadata": {},
   "outputs": [],
   "source": [
    "fs_api = []\n",
    "for data in df2:\n",
    "    for val in data['results']:\n",
    "        if 'rating' in val:\n",
    "            fs_api.append([val['name'],val['categories'][0]['name'],val['geocodes']['main']['latitude'], val['geocodes']['main']['longitude'], val['rating'], val['popularity']])\n",
    "   "
   ]
  },
  {
   "cell_type": "markdown",
   "metadata": {},
   "source": [
    "Put your parsed results into a DataFrame"
   ]
  },
  {
   "cell_type": "code",
   "execution_count": 75,
   "metadata": {},
   "outputs": [
    {
     "data": {
      "text/html": [
       "<div>\n",
       "<style scoped>\n",
       "    .dataframe tbody tr th:only-of-type {\n",
       "        vertical-align: middle;\n",
       "    }\n",
       "\n",
       "    .dataframe tbody tr th {\n",
       "        vertical-align: top;\n",
       "    }\n",
       "\n",
       "    .dataframe thead th {\n",
       "        text-align: right;\n",
       "    }\n",
       "</style>\n",
       "<table border=\"1\" class=\"dataframe\">\n",
       "  <thead>\n",
       "    <tr style=\"text-align: right;\">\n",
       "      <th></th>\n",
       "      <th>name</th>\n",
       "      <th>category</th>\n",
       "      <th>latitude</th>\n",
       "      <th>longitude</th>\n",
       "      <th>rating</th>\n",
       "      <th>popularity</th>\n",
       "    </tr>\n",
       "  </thead>\n",
       "  <tbody>\n",
       "    <tr>\n",
       "      <th>0</th>\n",
       "      <td>Vogue Fitness - Crossfit Yas</td>\n",
       "      <td>Sports and Recreation</td>\n",
       "      <td>24.466085</td>\n",
       "      <td>54.609540</td>\n",
       "      <td>8.2</td>\n",
       "      <td>0.990650</td>\n",
       "    </tr>\n",
       "    <tr>\n",
       "      <th>1</th>\n",
       "      <td>Stars N Bars</td>\n",
       "      <td>Bar</td>\n",
       "      <td>24.466085</td>\n",
       "      <td>54.609540</td>\n",
       "      <td>7.8</td>\n",
       "      <td>0.985040</td>\n",
       "    </tr>\n",
       "    <tr>\n",
       "      <th>2</th>\n",
       "      <td>Cipriani Yas Island</td>\n",
       "      <td>Italian Restaurant</td>\n",
       "      <td>24.467130</td>\n",
       "      <td>54.609222</td>\n",
       "      <td>8.9</td>\n",
       "      <td>0.977067</td>\n",
       "    </tr>\n",
       "    <tr>\n",
       "      <th>3</th>\n",
       "      <td>Diablito</td>\n",
       "      <td>Italian Restaurant</td>\n",
       "      <td>24.465609</td>\n",
       "      <td>54.609099</td>\n",
       "      <td>7.1</td>\n",
       "      <td>0.896271</td>\n",
       "    </tr>\n",
       "    <tr>\n",
       "      <th>4</th>\n",
       "      <td>Iris Yas Island</td>\n",
       "      <td>Lounge</td>\n",
       "      <td>24.467122</td>\n",
       "      <td>54.609105</td>\n",
       "      <td>8.7</td>\n",
       "      <td>0.958685</td>\n",
       "    </tr>\n",
       "    <tr>\n",
       "      <th>...</th>\n",
       "      <td>...</td>\n",
       "      <td>...</td>\n",
       "      <td>...</td>\n",
       "      <td>...</td>\n",
       "      <td>...</td>\n",
       "      <td>...</td>\n",
       "    </tr>\n",
       "    <tr>\n",
       "      <th>295</th>\n",
       "      <td>Aisha Lobby Lounge</td>\n",
       "      <td>Café</td>\n",
       "      <td>25.663201</td>\n",
       "      <td>55.749076</td>\n",
       "      <td>7.5</td>\n",
       "      <td>0.943775</td>\n",
       "    </tr>\n",
       "    <tr>\n",
       "      <th>296</th>\n",
       "      <td>Toast'n Burger</td>\n",
       "      <td>Burger Joint</td>\n",
       "      <td>25.664295</td>\n",
       "      <td>55.748702</td>\n",
       "      <td>6.9</td>\n",
       "      <td>0.938938</td>\n",
       "    </tr>\n",
       "    <tr>\n",
       "      <th>297</th>\n",
       "      <td>Mojito Bar</td>\n",
       "      <td>Cocktail Bar</td>\n",
       "      <td>25.663866</td>\n",
       "      <td>55.749080</td>\n",
       "      <td>7.3</td>\n",
       "      <td>0.204071</td>\n",
       "    </tr>\n",
       "    <tr>\n",
       "      <th>298</th>\n",
       "      <td>Al Hamra Cellar</td>\n",
       "      <td>Food and Beverage Retail</td>\n",
       "      <td>25.693119</td>\n",
       "      <td>55.796613</td>\n",
       "      <td>9.1</td>\n",
       "      <td>0.985335</td>\n",
       "    </tr>\n",
       "    <tr>\n",
       "      <th>299</th>\n",
       "      <td>زووم مارت</td>\n",
       "      <td>Convenience Store</td>\n",
       "      <td>25.699727</td>\n",
       "      <td>55.782536</td>\n",
       "      <td>7.4</td>\n",
       "      <td>0.924309</td>\n",
       "    </tr>\n",
       "  </tbody>\n",
       "</table>\n",
       "<p>300 rows × 6 columns</p>\n",
       "</div>"
      ],
      "text/plain": [
       "                             name                  category   latitude  \\\n",
       "0    Vogue Fitness - Crossfit Yas     Sports and Recreation  24.466085   \n",
       "1                    Stars N Bars                       Bar  24.466085   \n",
       "2             Cipriani Yas Island        Italian Restaurant  24.467130   \n",
       "3                        Diablito        Italian Restaurant  24.465609   \n",
       "4                 Iris Yas Island                    Lounge  24.467122   \n",
       "..                            ...                       ...        ...   \n",
       "295            Aisha Lobby Lounge                      Café  25.663201   \n",
       "296                Toast'n Burger              Burger Joint  25.664295   \n",
       "297                    Mojito Bar              Cocktail Bar  25.663866   \n",
       "298               Al Hamra Cellar  Food and Beverage Retail  25.693119   \n",
       "299                     زووم مارت         Convenience Store  25.699727   \n",
       "\n",
       "     longitude  rating  popularity  \n",
       "0    54.609540     8.2    0.990650  \n",
       "1    54.609540     7.8    0.985040  \n",
       "2    54.609222     8.9    0.977067  \n",
       "3    54.609099     7.1    0.896271  \n",
       "4    54.609105     8.7    0.958685  \n",
       "..         ...     ...         ...  \n",
       "295  55.749076     7.5    0.943775  \n",
       "296  55.748702     6.9    0.938938  \n",
       "297  55.749080     7.3    0.204071  \n",
       "298  55.796613     9.1    0.985335  \n",
       "299  55.782536     7.4    0.924309  \n",
       "\n",
       "[300 rows x 6 columns]"
      ]
     },
     "execution_count": 75,
     "metadata": {},
     "output_type": "execute_result"
    }
   ],
   "source": [
    "df_fs_api = pd.DataFrame(fs_api, columns = ['name', 'category', 'latitude', 'longitude', 'rating', 'popularity'])\n",
    "df_fs_api"
   ]
  },
  {
   "cell_type": "markdown",
   "metadata": {},
   "source": [
    "# Yelp"
   ]
  },
  {
   "cell_type": "markdown",
   "metadata": {},
   "source": [
    "Send a request to Yelp with a small radius (1000m) for all the bike stations in your city of choice. "
   ]
  },
  {
   "cell_type": "code",
   "execution_count": 63,
   "metadata": {},
   "outputs": [],
   "source": [
    "def get_POI_yelp(latitude,longitude):\n",
    "    \n",
    "    url = \"https://api.yelp.com/v3/businesses/search\"\n",
    "    \n",
    "    headers = {\"accept\": \"application/json\",\n",
    "              \"Authorization\": 'bearer %s' % YELP_api_key}\n",
    "\n",
    "    \n",
    "    \n",
    "    params_dict = {\n",
    "                   \"term\" : \"food\",\n",
    "                   \"latitude\" : latitude,\n",
    "                   \"longitude\" : longitude,\n",
    "                   \"radius\" : 1000,\n",
    "    }\n",
    "    \n",
    "    response = requests.get(url, params=params_dict, headers=headers)\n",
    "    \n",
    "    if response.status_code == 200:\n",
    "        return response.json()\n",
    "    else:\n",
    "        print(f'Error {response.status_code}')\n",
    "    "
   ]
  },
  {
   "cell_type": "code",
   "execution_count": 64,
   "metadata": {},
   "outputs": [],
   "source": [
    "df_y = pd.read_csv('bike_locations.csv')\n",
    "df_y1 = df_y.apply(\n",
    "        lambda row: get_POI_yelp(row['latitude'], row['longitude']),\n",
    "        axis=1)\n",
    "\n"
   ]
  },
  {
   "cell_type": "code",
   "execution_count": 65,
   "metadata": {},
   "outputs": [
    {
     "data": {
      "text/plain": [
       "{'businesses': [],\n",
       " 'total': 0,\n",
       " 'region': {'center': {'longitude': 54.619692999999984,\n",
       "   'latitude': 24.441122}}}"
      ]
     },
     "execution_count": 65,
     "metadata": {},
     "output_type": "execute_result"
    }
   ],
   "source": [
    "df_y1[10]\n",
    "# I don't believe yelp is collecting data in Abu Dhabi\n"
   ]
  },
  {
   "cell_type": "markdown",
   "metadata": {},
   "source": [
    "Parse through the response to get the POI (such as restaurants, bars, etc) details you want (ratings, name, location, etc)"
   ]
  },
  {
   "cell_type": "code",
   "execution_count": 66,
   "metadata": {},
   "outputs": [
    {
     "name": "stdout",
     "output_type": "stream",
     "text": [
      "No businesses found\n",
      "No businesses found\n",
      "No businesses found\n",
      "No businesses found\n",
      "No businesses found\n",
      "No businesses found\n",
      "No businesses found\n",
      "No businesses found\n",
      "No businesses found\n",
      "No businesses found\n",
      "No businesses found\n",
      "No businesses found\n",
      "No businesses found\n",
      "No businesses found\n",
      "No businesses found\n",
      "No businesses found\n",
      "No businesses found\n",
      "No businesses found\n",
      "No businesses found\n",
      "No businesses found\n",
      "No businesses found\n",
      "No businesses found\n",
      "No businesses found\n",
      "No businesses found\n",
      "No businesses found\n",
      "No businesses found\n",
      "No businesses found\n",
      "No businesses found\n",
      "No businesses found\n",
      "No businesses found\n",
      "No businesses found\n",
      "No businesses found\n",
      "No businesses found\n",
      "No businesses found\n",
      "No businesses found\n",
      "No businesses found\n",
      "No businesses found\n",
      "No businesses found\n",
      "No businesses found\n",
      "No businesses found\n",
      "No businesses found\n",
      "No businesses found\n",
      "No businesses found\n",
      "No businesses found\n",
      "No businesses found\n",
      "No businesses found\n",
      "No businesses found\n",
      "No businesses found\n",
      "No businesses found\n"
     ]
    }
   ],
   "source": [
    "# checking if the Yelp call had any data in them\n",
    "for row in df_y1:\n",
    "    if row['total'] > 0:\n",
    "        print(row)\n",
    "    else:\n",
    "        print(f'No businesses found')\n",
    "        \n",
    "# I would have switched to another city if I had more time"
   ]
  },
  {
   "cell_type": "markdown",
   "metadata": {},
   "source": [
    "Put your parsed results into a DataFrame"
   ]
  },
  {
   "cell_type": "markdown",
   "metadata": {},
   "source": [
    "\"NA\""
   ]
  },
  {
   "cell_type": "code",
   "execution_count": 68,
   "metadata": {},
   "outputs": [
    {
     "data": {
      "text/plain": [
       "'NA'"
      ]
     },
     "execution_count": 68,
     "metadata": {},
     "output_type": "execute_result"
    }
   ],
   "source": [
    "\"NA\""
   ]
  },
  {
   "cell_type": "markdown",
   "metadata": {},
   "source": [
    "# Comparing Results"
   ]
  },
  {
   "cell_type": "markdown",
   "metadata": {},
   "source": [
    "Which API provided you with more complete data? Provide an explanation. "
   ]
  },
  {
   "cell_type": "markdown",
   "metadata": {},
   "source": [
    "In my case Yelp was not collecting ay data about businesses in Abu Dhabi, therefore the obvious choice is foursquare. However after looking at yelp documentation Yelp provides more detailed information about businesses with simpler queries for the cities they DO collect data from."
   ]
  },
  {
   "cell_type": "markdown",
   "metadata": {},
   "source": [
    "Get the top 10 restaurants according to their rating"
   ]
  },
  {
   "cell_type": "code",
   "execution_count": 85,
   "metadata": {},
   "outputs": [],
   "source": [
    "#df_fs_api"
   ]
  },
  {
   "cell_type": "code",
   "execution_count": 84,
   "metadata": {},
   "outputs": [
    {
     "data": {
      "text/html": [
       "<div>\n",
       "<style scoped>\n",
       "    .dataframe tbody tr th:only-of-type {\n",
       "        vertical-align: middle;\n",
       "    }\n",
       "\n",
       "    .dataframe tbody tr th {\n",
       "        vertical-align: top;\n",
       "    }\n",
       "\n",
       "    .dataframe thead th {\n",
       "        text-align: right;\n",
       "    }\n",
       "</style>\n",
       "<table border=\"1\" class=\"dataframe\">\n",
       "  <thead>\n",
       "    <tr style=\"text-align: right;\">\n",
       "      <th></th>\n",
       "      <th>name</th>\n",
       "      <th>category</th>\n",
       "      <th>latitude</th>\n",
       "      <th>longitude</th>\n",
       "      <th>rating</th>\n",
       "      <th>popularity</th>\n",
       "    </tr>\n",
       "  </thead>\n",
       "  <tbody>\n",
       "    <tr>\n",
       "      <th>237</th>\n",
       "      <td>Catch</td>\n",
       "      <td>Seafood Restaurant</td>\n",
       "      <td>24.465627</td>\n",
       "      <td>54.327545</td>\n",
       "      <td>9.0</td>\n",
       "      <td>0.931623</td>\n",
       "    </tr>\n",
       "    <tr>\n",
       "      <th>2</th>\n",
       "      <td>Cipriani Yas Island</td>\n",
       "      <td>Italian Restaurant</td>\n",
       "      <td>24.467130</td>\n",
       "      <td>54.609222</td>\n",
       "      <td>8.9</td>\n",
       "      <td>0.977067</td>\n",
       "    </tr>\n",
       "    <tr>\n",
       "      <th>181</th>\n",
       "      <td>Qasmieh Al Fawal</td>\n",
       "      <td>Middle Eastern Restaurant</td>\n",
       "      <td>24.471854</td>\n",
       "      <td>54.347455</td>\n",
       "      <td>8.7</td>\n",
       "      <td>0.980171</td>\n",
       "    </tr>\n",
       "    <tr>\n",
       "      <th>123</th>\n",
       "      <td>Qasmieh Al Fawal</td>\n",
       "      <td>Middle Eastern Restaurant</td>\n",
       "      <td>24.471854</td>\n",
       "      <td>54.347455</td>\n",
       "      <td>8.7</td>\n",
       "      <td>0.980171</td>\n",
       "    </tr>\n",
       "    <tr>\n",
       "      <th>119</th>\n",
       "      <td>Sushi Story</td>\n",
       "      <td>Japanese Restaurant</td>\n",
       "      <td>24.481588</td>\n",
       "      <td>54.351395</td>\n",
       "      <td>8.7</td>\n",
       "      <td>0.961472</td>\n",
       "    </tr>\n",
       "    <tr>\n",
       "      <th>138</th>\n",
       "      <td>Napo Ristorante</td>\n",
       "      <td>Italian Restaurant</td>\n",
       "      <td>24.452015</td>\n",
       "      <td>54.334343</td>\n",
       "      <td>8.5</td>\n",
       "      <td>0.988890</td>\n",
       "    </tr>\n",
       "    <tr>\n",
       "      <th>80</th>\n",
       "      <td>Fouquet's Abu Dhabi</td>\n",
       "      <td>French Restaurant</td>\n",
       "      <td>24.534417</td>\n",
       "      <td>54.398200</td>\n",
       "      <td>8.4</td>\n",
       "      <td>0.961944</td>\n",
       "    </tr>\n",
       "    <tr>\n",
       "      <th>206</th>\n",
       "      <td>Shish Shawerma Corniche</td>\n",
       "      <td>Middle Eastern Restaurant</td>\n",
       "      <td>24.470986</td>\n",
       "      <td>54.340719</td>\n",
       "      <td>8.4</td>\n",
       "      <td>0.974809</td>\n",
       "    </tr>\n",
       "    <tr>\n",
       "      <th>166</th>\n",
       "      <td>Fouquet's Abu Dhabi</td>\n",
       "      <td>French Restaurant</td>\n",
       "      <td>24.534417</td>\n",
       "      <td>54.398200</td>\n",
       "      <td>8.4</td>\n",
       "      <td>0.961944</td>\n",
       "    </tr>\n",
       "    <tr>\n",
       "      <th>133</th>\n",
       "      <td>Sushi Central</td>\n",
       "      <td>Japanese Restaurant</td>\n",
       "      <td>24.507550</td>\n",
       "      <td>54.376616</td>\n",
       "      <td>8.3</td>\n",
       "      <td>0.848287</td>\n",
       "    </tr>\n",
       "  </tbody>\n",
       "</table>\n",
       "</div>"
      ],
      "text/plain": [
       "                        name                   category   latitude  longitude  \\\n",
       "237                    Catch         Seafood Restaurant  24.465627  54.327545   \n",
       "2        Cipriani Yas Island         Italian Restaurant  24.467130  54.609222   \n",
       "181         Qasmieh Al Fawal  Middle Eastern Restaurant  24.471854  54.347455   \n",
       "123         Qasmieh Al Fawal  Middle Eastern Restaurant  24.471854  54.347455   \n",
       "119              Sushi Story        Japanese Restaurant  24.481588  54.351395   \n",
       "138          Napo Ristorante         Italian Restaurant  24.452015  54.334343   \n",
       "80       Fouquet's Abu Dhabi          French Restaurant  24.534417  54.398200   \n",
       "206  Shish Shawerma Corniche  Middle Eastern Restaurant  24.470986  54.340719   \n",
       "166      Fouquet's Abu Dhabi          French Restaurant  24.534417  54.398200   \n",
       "133            Sushi Central        Japanese Restaurant  24.507550  54.376616   \n",
       "\n",
       "     rating  popularity  \n",
       "237     9.0    0.931623  \n",
       "2       8.9    0.977067  \n",
       "181     8.7    0.980171  \n",
       "123     8.7    0.980171  \n",
       "119     8.7    0.961472  \n",
       "138     8.5    0.988890  \n",
       "80      8.4    0.961944  \n",
       "206     8.4    0.974809  \n",
       "166     8.4    0.961944  \n",
       "133     8.3    0.848287  "
      ]
     },
     "execution_count": 84,
     "metadata": {},
     "output_type": "execute_result"
    }
   ],
   "source": [
    "df_fs_api[df_fs_api['category'].str.contains('Restaurant')].sort_values('rating', ascending=False).head(10)"
   ]
  },
  {
   "cell_type": "code",
   "execution_count": 87,
   "metadata": {},
   "outputs": [],
   "source": [
    "df_fs_api.to_csv('fs_data.csv', columns = ['name', 'category', 'latitude', 'longitude', 'rating', 'popularity'], index=False)"
   ]
  },
  {
   "cell_type": "code",
   "execution_count": null,
   "metadata": {},
   "outputs": [],
   "source": []
  }
 ],
 "metadata": {
  "kernelspec": {
   "display_name": "Python 3 (ipykernel)",
   "language": "python",
   "name": "python3"
  },
  "language_info": {
   "codemirror_mode": {
    "name": "ipython",
    "version": 3
   },
   "file_extension": ".py",
   "mimetype": "text/x-python",
   "name": "python",
   "nbconvert_exporter": "python",
   "pygments_lexer": "ipython3",
   "version": "3.9.13"
  }
 },
 "nbformat": 4,
 "nbformat_minor": 4
}
