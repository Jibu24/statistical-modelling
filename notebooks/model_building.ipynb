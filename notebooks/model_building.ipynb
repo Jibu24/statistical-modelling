{
 "cells": [
  {
   "cell_type": "markdown",
   "metadata": {},
   "source": [
    "Build a regression model."
   ]
  },
  {
   "cell_type": "code",
   "execution_count": 29,
   "metadata": {},
   "outputs": [],
   "source": [
    "import statsmodels.api as sm\n",
    "import pandas as pd\n",
    "\n",
    "df = pd.read_csv('bike_POIs.csv')\n"
   ]
  },
  {
   "cell_type": "code",
   "execution_count": 69,
   "metadata": {},
   "outputs": [],
   "source": [
    "df2 = df.dropna()\n",
    "\n",
    "df3 = df2.loc[:, ['rating', 'popularity']]\n",
    "\n",
    "x = df3\n",
    "y = df2['empty_slots']\n",
    "\n",
    "x = sm.add_constant(x) # adding a constant\n",
    "lin_reg = sm.OLS(y,x)\n"
   ]
  },
  {
   "cell_type": "markdown",
   "metadata": {},
   "source": [
    "Provide model output and an interpretation of the results. "
   ]
  },
  {
   "cell_type": "code",
   "execution_count": 70,
   "metadata": {},
   "outputs": [
    {
     "name": "stdout",
     "output_type": "stream",
     "text": [
      "                            OLS Regression Results                            \n",
      "==============================================================================\n",
      "Dep. Variable:            empty_slots   R-squared:                       0.004\n",
      "Model:                            OLS   Adj. R-squared:                 -0.002\n",
      "Method:                 Least Squares   F-statistic:                    0.6857\n",
      "Date:                Mon, 30 Jan 2023   Prob (F-statistic):              0.505\n",
      "Time:                        22:28:50   Log-Likelihood:                -776.84\n",
      "No. Observations:                 309   AIC:                             1560.\n",
      "Df Residuals:                     306   BIC:                             1571.\n",
      "Df Model:                           2                                         \n",
      "Covariance Type:            nonrobust                                         \n",
      "==============================================================================\n",
      "                 coef    std err          t      P>|t|      [0.025      0.975]\n",
      "------------------------------------------------------------------------------\n",
      "const          4.5097      1.888      2.388      0.018       0.794       8.226\n",
      "rating         0.1776      0.267      0.665      0.506      -0.348       0.703\n",
      "popularity     0.5307      0.862      0.616      0.539      -1.165       2.227\n",
      "==============================================================================\n",
      "Omnibus:                       26.962   Durbin-Watson:                   0.980\n",
      "Prob(Omnibus):                  0.000   Jarque-Bera (JB):               11.035\n",
      "Skew:                          -0.219   Prob(JB):                      0.00402\n",
      "Kurtosis:                       2.185   Cond. No.                         87.2\n",
      "==============================================================================\n",
      "\n",
      "Notes:\n",
      "[1] Standard Errors assume that the covariance matrix of the errors is correctly specified.\n"
     ]
    }
   ],
   "source": [
    "model = lin_reg.fit()\n",
    "print_model = model.summary()\n",
    "print(print_model)"
   ]
  },
  {
   "cell_type": "markdown",
   "metadata": {},
   "source": [
    "Looking at the adj. R-squared value, we can see that the data does not fit a linear model at all. Additionally the p value for both the rating and popularity variables were both > 0.05 which tells us there is no statistical significant evidence to reject the null hypothesis that the coefficient for these variables were zero"
   ]
  },
  {
   "cell_type": "markdown",
   "metadata": {},
   "source": [
    "# Stretch"
   ]
  },
  {
   "cell_type": "markdown",
   "metadata": {},
   "source": [
    "How can you turn the regression model into a classification model?"
   ]
  },
  {
   "cell_type": "code",
   "execution_count": null,
   "metadata": {},
   "outputs": [],
   "source": []
  }
 ],
 "metadata": {
  "kernelspec": {
   "display_name": "Python 3 (ipykernel)",
   "language": "python",
   "name": "python3"
  },
  "language_info": {
   "codemirror_mode": {
    "name": "ipython",
    "version": 3
   },
   "file_extension": ".py",
   "mimetype": "text/x-python",
   "name": "python",
   "nbconvert_exporter": "python",
   "pygments_lexer": "ipython3",
   "version": "3.9.13"
  }
 },
 "nbformat": 4,
 "nbformat_minor": 4
}
