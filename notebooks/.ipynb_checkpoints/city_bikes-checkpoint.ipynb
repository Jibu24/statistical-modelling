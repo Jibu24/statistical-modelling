{
 "cells": [
  {
   "cell_type": "markdown",
   "metadata": {},
   "source": [
    "# CityBikes"
   ]
  },
  {
   "cell_type": "markdown",
   "metadata": {},
   "source": [
    "Send a request to CityBikes for the city of your choice. "
   ]
  },
  {
   "cell_type": "code",
   "execution_count": 126,
   "metadata": {},
   "outputs": [],
   "source": [
    "import requests\n",
    "from IPython.display import JSON\n",
    "\n",
    "URL = \"http://api.citybik.es/v2/networks/adcb-bikeshare\"\n",
    "\n",
    "# I wanted to choose the city of Abu Dhabi and saw in the interactive map of the API documentation that the id for it was adcb-bikeshare\n",
    "params_dict = { 'fields' : 'id,name,stations,location' }\n",
    "\n",
    "response = requests.get(URL , params=params_dict).json()\n",
    "#response\n"
   ]
  },
  {
   "cell_type": "markdown",
   "metadata": {},
   "source": [
    "Parse through the response to get the details you want for the bike stations in that city (latitude, longitude, number of bikes). "
   ]
  },
  {
   "cell_type": "code",
   "execution_count": 182,
   "metadata": {},
   "outputs": [],
   "source": [
    "import pandas as pd\n",
    "\n",
    "#response['network']['stations']\n",
    "\n",
    "AbuDhabi_bikes = []\n",
    "\n",
    "for station in response['network']['stations']:\n",
    "        AbuDhabi_bikes.append([station['empty_slots'],station['free_bikes'],station['latitude'], station['longitude']])"
   ]
  },
  {
   "cell_type": "markdown",
   "metadata": {},
   "source": [
    "Put your parsed results into a DataFrame."
   ]
  },
  {
   "cell_type": "code",
   "execution_count": 181,
   "metadata": {},
   "outputs": [],
   "source": [
    "df = pd.DataFrame(AbuDhabi_bikes, columns= ['empty_slots', 'free_bikes', 'latitude', 'longitude'])"
   ]
  }
 ],
 "metadata": {
  "kernelspec": {
   "display_name": "Python 3 (ipykernel)",
   "language": "python",
   "name": "python3"
  },
  "language_info": {
   "codemirror_mode": {
    "name": "ipython",
    "version": 3
   },
   "file_extension": ".py",
   "mimetype": "text/x-python",
   "name": "python",
   "nbconvert_exporter": "python",
   "pygments_lexer": "ipython3",
   "version": "3.9.13"
  }
 },
 "nbformat": 4,
 "nbformat_minor": 4
}
